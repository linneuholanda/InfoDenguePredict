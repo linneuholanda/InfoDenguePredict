{
 "cells": [
  {
   "cell_type": "markdown",
   "metadata": {},
   "source": [
    "# Exploring LSTM models \n",
    "\n",
    "In this notebook we run lstm models on Infodengue data."
   ]
  },
  {
   "cell_type": "code",
   "execution_count": 1,
   "metadata": {},
   "outputs": [
    {
     "name": "stderr",
     "output_type": "stream",
     "text": [
      "Using TensorFlow backend.\n"
     ]
    },
    {
     "name": "stdout",
     "output_type": "stream",
     "text": [
      "PSQL_USER not found. Declare it as envvar or define a default value.\n"
     ]
    }
   ],
   "source": [
    "%load_ext autoreload\n",
    "%autoreload 2\n",
    "import numpy as np\n",
    "import pandas as pd\n",
    "import matplotlib.pyplot as plt\n",
    "#import os\n",
    "#os.chdir(\"..\")\n",
    "\n",
    "import sys\n",
    "sys.path.append('../')\n",
    "from infodenguepredict.models.deeplearning.lstm import *\n",
    "from infodenguepredict.metrics.metrics import *\n",
    "import pickle\n",
    "import getpass, os\n",
    "from keras.layers.core import Dense, Activation, Dropout\n",
    "from keras.layers.recurrent import LSTM\n",
    "from keras.models import Sequential\n",
    "from keras.utils.vis_utils import plot_model\n",
    "from keras.callbacks import TensorBoard, EarlyStopping\n",
    "from keras import backend as K\n",
    "from sklearn.metrics import *\n",
    "import pandas as pd\n",
    "from time import time"
   ]
  },
  {
   "cell_type": "markdown",
   "metadata": {},
   "source": [
    "## Loading the data"
   ]
  },
  {
   "cell_type": "markdown",
   "metadata": {},
   "source": [
    "To download the data we follow the instructions in the [README.rst](https://github.com/fccoelho/InfoDenguePredict/blob/master/README.rst) file."
   ]
  },
  {
   "cell_type": "markdown",
   "metadata": {},
   "source": [
    "We perform our experiments on data from Rio de Janeiro. Let us first read all our data."
   ]
  },
  {
   "cell_type": "code",
   "execution_count": 2,
   "metadata": {},
   "outputs": [
    {
     "data": {
      "text/html": [
       "<div>\n",
       "<style scoped>\n",
       "    .dataframe tbody tr th:only-of-type {\n",
       "        vertical-align: middle;\n",
       "    }\n",
       "\n",
       "    .dataframe tbody tr th {\n",
       "        vertical-align: top;\n",
       "    }\n",
       "\n",
       "    .dataframe thead th {\n",
       "        text-align: right;\n",
       "    }\n",
       "</style>\n",
       "<table border=\"1\" class=\"dataframe\">\n",
       "  <thead>\n",
       "    <tr style=\"text-align: right;\">\n",
       "      <th></th>\n",
       "      <th>casos_3306206</th>\n",
       "      <th>casos_est_3306206</th>\n",
       "      <th>casos_est_min_3306206</th>\n",
       "      <th>casos_est_max_3306206</th>\n",
       "      <th>p_rt1_3306206</th>\n",
       "      <th>p_inc100k_3306206</th>\n",
       "      <th>temp_min_3306206</th>\n",
       "      <th>temp_max_3306206</th>\n",
       "      <th>umid_min_3306206</th>\n",
       "      <th>pressao_min_3306206</th>\n",
       "      <th>...</th>\n",
       "      <th>casos_3300456</th>\n",
       "      <th>casos_est_3300456</th>\n",
       "      <th>casos_est_min_3300456</th>\n",
       "      <th>casos_est_max_3300456</th>\n",
       "      <th>p_rt1_3300456</th>\n",
       "      <th>p_inc100k_3300456</th>\n",
       "      <th>temp_min_3300456</th>\n",
       "      <th>temp_max_3300456</th>\n",
       "      <th>umid_min_3300456</th>\n",
       "      <th>pressao_min_3300456</th>\n",
       "    </tr>\n",
       "  </thead>\n",
       "  <tbody>\n",
       "    <tr>\n",
       "      <th>2010-01-03</th>\n",
       "      <td>1</td>\n",
       "      <td>1.0</td>\n",
       "      <td>1</td>\n",
       "      <td>1</td>\n",
       "      <td>0.0</td>\n",
       "      <td>2.80725</td>\n",
       "      <td>24.333333</td>\n",
       "      <td>33.000000</td>\n",
       "      <td>42.000000</td>\n",
       "      <td>1009.666667</td>\n",
       "      <td>...</td>\n",
       "      <td>3</td>\n",
       "      <td>3.0</td>\n",
       "      <td>3</td>\n",
       "      <td>3</td>\n",
       "      <td>0.0</td>\n",
       "      <td>0.607114</td>\n",
       "      <td>24.333333</td>\n",
       "      <td>33.000000</td>\n",
       "      <td>42.000000</td>\n",
       "      <td>1009.666667</td>\n",
       "    </tr>\n",
       "    <tr>\n",
       "      <th>2010-01-10</th>\n",
       "      <td>0</td>\n",
       "      <td>0.0</td>\n",
       "      <td>0</td>\n",
       "      <td>0</td>\n",
       "      <td>0.0</td>\n",
       "      <td>0.00000</td>\n",
       "      <td>25.428571</td>\n",
       "      <td>34.000000</td>\n",
       "      <td>43.285714</td>\n",
       "      <td>1008.000000</td>\n",
       "      <td>...</td>\n",
       "      <td>6</td>\n",
       "      <td>6.0</td>\n",
       "      <td>6</td>\n",
       "      <td>6</td>\n",
       "      <td>0.0</td>\n",
       "      <td>1.214230</td>\n",
       "      <td>25.428571</td>\n",
       "      <td>34.000000</td>\n",
       "      <td>43.285714</td>\n",
       "      <td>1008.000000</td>\n",
       "    </tr>\n",
       "    <tr>\n",
       "      <th>2010-01-17</th>\n",
       "      <td>0</td>\n",
       "      <td>0.0</td>\n",
       "      <td>0</td>\n",
       "      <td>0</td>\n",
       "      <td>0.0</td>\n",
       "      <td>0.00000</td>\n",
       "      <td>24.142857</td>\n",
       "      <td>34.000000</td>\n",
       "      <td>43.857143</td>\n",
       "      <td>1010.285714</td>\n",
       "      <td>...</td>\n",
       "      <td>1</td>\n",
       "      <td>1.0</td>\n",
       "      <td>1</td>\n",
       "      <td>1</td>\n",
       "      <td>0.0</td>\n",
       "      <td>0.202371</td>\n",
       "      <td>24.142857</td>\n",
       "      <td>34.000000</td>\n",
       "      <td>43.857143</td>\n",
       "      <td>1010.285714</td>\n",
       "    </tr>\n",
       "    <tr>\n",
       "      <th>2010-01-24</th>\n",
       "      <td>0</td>\n",
       "      <td>0.0</td>\n",
       "      <td>0</td>\n",
       "      <td>0</td>\n",
       "      <td>0.0</td>\n",
       "      <td>0.00000</td>\n",
       "      <td>23.714286</td>\n",
       "      <td>34.285714</td>\n",
       "      <td>39.285714</td>\n",
       "      <td>1009.000000</td>\n",
       "      <td>...</td>\n",
       "      <td>4</td>\n",
       "      <td>4.0</td>\n",
       "      <td>4</td>\n",
       "      <td>4</td>\n",
       "      <td>0.0</td>\n",
       "      <td>0.809486</td>\n",
       "      <td>23.714286</td>\n",
       "      <td>34.285714</td>\n",
       "      <td>39.285714</td>\n",
       "      <td>1009.000000</td>\n",
       "    </tr>\n",
       "    <tr>\n",
       "      <th>2010-01-31</th>\n",
       "      <td>0</td>\n",
       "      <td>0.0</td>\n",
       "      <td>0</td>\n",
       "      <td>0</td>\n",
       "      <td>0.0</td>\n",
       "      <td>0.00000</td>\n",
       "      <td>23.857143</td>\n",
       "      <td>33.857143</td>\n",
       "      <td>41.285714</td>\n",
       "      <td>1009.857143</td>\n",
       "      <td>...</td>\n",
       "      <td>9</td>\n",
       "      <td>9.0</td>\n",
       "      <td>9</td>\n",
       "      <td>9</td>\n",
       "      <td>0.0</td>\n",
       "      <td>1.821340</td>\n",
       "      <td>23.857143</td>\n",
       "      <td>33.857143</td>\n",
       "      <td>41.285714</td>\n",
       "      <td>1009.857143</td>\n",
       "    </tr>\n",
       "  </tbody>\n",
       "</table>\n",
       "<p>5 rows × 230 columns</p>\n",
       "</div>"
      ],
      "text/plain": [
       "            casos_3306206  casos_est_3306206  casos_est_min_3306206  \\\n",
       "2010-01-03              1                1.0                      1   \n",
       "2010-01-10              0                0.0                      0   \n",
       "2010-01-17              0                0.0                      0   \n",
       "2010-01-24              0                0.0                      0   \n",
       "2010-01-31              0                0.0                      0   \n",
       "\n",
       "            casos_est_max_3306206  p_rt1_3306206  p_inc100k_3306206  \\\n",
       "2010-01-03                      1            0.0            2.80725   \n",
       "2010-01-10                      0            0.0            0.00000   \n",
       "2010-01-17                      0            0.0            0.00000   \n",
       "2010-01-24                      0            0.0            0.00000   \n",
       "2010-01-31                      0            0.0            0.00000   \n",
       "\n",
       "            temp_min_3306206  temp_max_3306206  umid_min_3306206  \\\n",
       "2010-01-03         24.333333         33.000000         42.000000   \n",
       "2010-01-10         25.428571         34.000000         43.285714   \n",
       "2010-01-17         24.142857         34.000000         43.857143   \n",
       "2010-01-24         23.714286         34.285714         39.285714   \n",
       "2010-01-31         23.857143         33.857143         41.285714   \n",
       "\n",
       "            pressao_min_3306206  ...  casos_3300456  casos_est_3300456  \\\n",
       "2010-01-03          1009.666667  ...              3                3.0   \n",
       "2010-01-10          1008.000000  ...              6                6.0   \n",
       "2010-01-17          1010.285714  ...              1                1.0   \n",
       "2010-01-24          1009.000000  ...              4                4.0   \n",
       "2010-01-31          1009.857143  ...              9                9.0   \n",
       "\n",
       "            casos_est_min_3300456  casos_est_max_3300456  p_rt1_3300456  \\\n",
       "2010-01-03                      3                      3            0.0   \n",
       "2010-01-10                      6                      6            0.0   \n",
       "2010-01-17                      1                      1            0.0   \n",
       "2010-01-24                      4                      4            0.0   \n",
       "2010-01-31                      9                      9            0.0   \n",
       "\n",
       "            p_inc100k_3300456  temp_min_3300456  temp_max_3300456  \\\n",
       "2010-01-03           0.607114         24.333333         33.000000   \n",
       "2010-01-10           1.214230         25.428571         34.000000   \n",
       "2010-01-17           0.202371         24.142857         34.000000   \n",
       "2010-01-24           0.809486         23.714286         34.285714   \n",
       "2010-01-31           1.821340         23.857143         33.857143   \n",
       "\n",
       "            umid_min_3300456  pressao_min_3300456  \n",
       "2010-01-03         42.000000          1009.666667  \n",
       "2010-01-10         43.285714          1008.000000  \n",
       "2010-01-17         43.857143          1010.285714  \n",
       "2010-01-24         39.285714          1009.000000  \n",
       "2010-01-31         41.285714          1009.857143  \n",
       "\n",
       "[5 rows x 230 columns]"
      ]
     },
     "execution_count": 2,
     "metadata": {},
     "output_type": "execute_result"
    }
   ],
   "source": [
    "data_cluster = pd.read_csv(\"./sample_data/3304557_cluster.csv\",index_col=0)\n",
    "data_cluster.head()"
   ]
  },
  {
   "cell_type": "markdown",
   "metadata": {},
   "source": [
    "The city of Rio is coded as cluster `3304557`. We can easily filter the dataframe above to get only the data corresponding to this cluster."
   ]
  },
  {
   "cell_type": "code",
   "execution_count": 3,
   "metadata": {},
   "outputs": [
    {
     "name": "stdout",
     "output_type": "stream",
     "text": [
      "(488, 10)\n",
      "Index(['casos_3304557', 'casos_est_3304557', 'casos_est_min_3304557',\n",
      "       'casos_est_max_3304557', 'p_rt1_3304557', 'p_inc100k_3304557',\n",
      "       'temp_min_3304557', 'temp_max_3304557', 'umid_min_3304557',\n",
      "       'pressao_min_3304557'],\n",
      "      dtype='object')\n"
     ]
    },
    {
     "data": {
      "text/html": [
       "<div>\n",
       "<style scoped>\n",
       "    .dataframe tbody tr th:only-of-type {\n",
       "        vertical-align: middle;\n",
       "    }\n",
       "\n",
       "    .dataframe tbody tr th {\n",
       "        vertical-align: top;\n",
       "    }\n",
       "\n",
       "    .dataframe thead th {\n",
       "        text-align: right;\n",
       "    }\n",
       "</style>\n",
       "<table border=\"1\" class=\"dataframe\">\n",
       "  <thead>\n",
       "    <tr style=\"text-align: right;\">\n",
       "      <th></th>\n",
       "      <th>casos_3304557</th>\n",
       "      <th>casos_est_3304557</th>\n",
       "      <th>casos_est_min_3304557</th>\n",
       "      <th>casos_est_max_3304557</th>\n",
       "      <th>p_rt1_3304557</th>\n",
       "      <th>p_inc100k_3304557</th>\n",
       "      <th>temp_min_3304557</th>\n",
       "      <th>temp_max_3304557</th>\n",
       "      <th>umid_min_3304557</th>\n",
       "      <th>pressao_min_3304557</th>\n",
       "    </tr>\n",
       "  </thead>\n",
       "  <tbody>\n",
       "    <tr>\n",
       "      <th>2010-01-03</th>\n",
       "      <td>30</td>\n",
       "      <td>30.0</td>\n",
       "      <td>30</td>\n",
       "      <td>30</td>\n",
       "      <td>0.0</td>\n",
       "      <td>0.461621</td>\n",
       "      <td>24.333333</td>\n",
       "      <td>33.000000</td>\n",
       "      <td>42.000000</td>\n",
       "      <td>1009.666667</td>\n",
       "    </tr>\n",
       "    <tr>\n",
       "      <th>2010-01-10</th>\n",
       "      <td>46</td>\n",
       "      <td>46.0</td>\n",
       "      <td>46</td>\n",
       "      <td>46</td>\n",
       "      <td>0.0</td>\n",
       "      <td>0.707819</td>\n",
       "      <td>25.428571</td>\n",
       "      <td>34.000000</td>\n",
       "      <td>43.285714</td>\n",
       "      <td>1008.000000</td>\n",
       "    </tr>\n",
       "    <tr>\n",
       "      <th>2010-01-17</th>\n",
       "      <td>30</td>\n",
       "      <td>30.0</td>\n",
       "      <td>30</td>\n",
       "      <td>30</td>\n",
       "      <td>0.0</td>\n",
       "      <td>0.461621</td>\n",
       "      <td>24.142857</td>\n",
       "      <td>34.000000</td>\n",
       "      <td>43.857143</td>\n",
       "      <td>1010.285714</td>\n",
       "    </tr>\n",
       "    <tr>\n",
       "      <th>2010-01-24</th>\n",
       "      <td>51</td>\n",
       "      <td>51.0</td>\n",
       "      <td>51</td>\n",
       "      <td>51</td>\n",
       "      <td>0.0</td>\n",
       "      <td>0.784756</td>\n",
       "      <td>23.714286</td>\n",
       "      <td>34.285714</td>\n",
       "      <td>39.285714</td>\n",
       "      <td>1009.000000</td>\n",
       "    </tr>\n",
       "    <tr>\n",
       "      <th>2010-01-31</th>\n",
       "      <td>58</td>\n",
       "      <td>58.0</td>\n",
       "      <td>58</td>\n",
       "      <td>58</td>\n",
       "      <td>0.0</td>\n",
       "      <td>0.892467</td>\n",
       "      <td>23.857143</td>\n",
       "      <td>33.857143</td>\n",
       "      <td>41.285714</td>\n",
       "      <td>1009.857143</td>\n",
       "    </tr>\n",
       "  </tbody>\n",
       "</table>\n",
       "</div>"
      ],
      "text/plain": [
       "            casos_3304557  casos_est_3304557  casos_est_min_3304557  \\\n",
       "2010-01-03             30               30.0                     30   \n",
       "2010-01-10             46               46.0                     46   \n",
       "2010-01-17             30               30.0                     30   \n",
       "2010-01-24             51               51.0                     51   \n",
       "2010-01-31             58               58.0                     58   \n",
       "\n",
       "            casos_est_max_3304557  p_rt1_3304557  p_inc100k_3304557  \\\n",
       "2010-01-03                     30            0.0           0.461621   \n",
       "2010-01-10                     46            0.0           0.707819   \n",
       "2010-01-17                     30            0.0           0.461621   \n",
       "2010-01-24                     51            0.0           0.784756   \n",
       "2010-01-31                     58            0.0           0.892467   \n",
       "\n",
       "            temp_min_3304557  temp_max_3304557  umid_min_3304557  \\\n",
       "2010-01-03         24.333333         33.000000         42.000000   \n",
       "2010-01-10         25.428571         34.000000         43.285714   \n",
       "2010-01-17         24.142857         34.000000         43.857143   \n",
       "2010-01-24         23.714286         34.285714         39.285714   \n",
       "2010-01-31         23.857143         33.857143         41.285714   \n",
       "\n",
       "            pressao_min_3304557  \n",
       "2010-01-03          1009.666667  \n",
       "2010-01-10          1008.000000  \n",
       "2010-01-17          1010.285714  \n",
       "2010-01-24          1009.000000  \n",
       "2010-01-31          1009.857143  "
      ]
     },
     "execution_count": 3,
     "metadata": {},
     "output_type": "execute_result"
    }
   ],
   "source": [
    "cluster_rj = data_cluster[[c for c in data_cluster.columns if \"3304557\" in c.split(\"_\")]]\n",
    "print(cluster_rj.shape)\n",
    "print(cluster_rj.columns)\n",
    "cluster_rj.head()"
   ]
  },
  {
   "cell_type": "markdown",
   "metadata": {},
   "source": [
    "Our goal is to predict the first column, `casos_3304557` from the columns `p_rt1_3304557`, `p_inc100k_3304557`, `temp_min_3304557`, `temp_max_3304557`, `umid_min_3304557`, `pressao_min_3304557`."
   ]
  },
  {
   "cell_type": "code",
   "execution_count": 4,
   "metadata": {},
   "outputs": [
    {
     "data": {
      "text/html": [
       "<div>\n",
       "<style scoped>\n",
       "    .dataframe tbody tr th:only-of-type {\n",
       "        vertical-align: middle;\n",
       "    }\n",
       "\n",
       "    .dataframe tbody tr th {\n",
       "        vertical-align: top;\n",
       "    }\n",
       "\n",
       "    .dataframe thead th {\n",
       "        text-align: right;\n",
       "    }\n",
       "</style>\n",
       "<table border=\"1\" class=\"dataframe\">\n",
       "  <thead>\n",
       "    <tr style=\"text-align: right;\">\n",
       "      <th></th>\n",
       "      <th>casos_3304557</th>\n",
       "      <th>p_rt1_3304557</th>\n",
       "      <th>p_inc100k_3304557</th>\n",
       "      <th>temp_min_3304557</th>\n",
       "      <th>temp_max_3304557</th>\n",
       "      <th>umid_min_3304557</th>\n",
       "      <th>pressao_min_3304557</th>\n",
       "    </tr>\n",
       "  </thead>\n",
       "  <tbody>\n",
       "    <tr>\n",
       "      <th>2010-01-03</th>\n",
       "      <td>30</td>\n",
       "      <td>0.0</td>\n",
       "      <td>0.461621</td>\n",
       "      <td>24.333333</td>\n",
       "      <td>33.000000</td>\n",
       "      <td>42.000000</td>\n",
       "      <td>1009.666667</td>\n",
       "    </tr>\n",
       "    <tr>\n",
       "      <th>2010-01-10</th>\n",
       "      <td>46</td>\n",
       "      <td>0.0</td>\n",
       "      <td>0.707819</td>\n",
       "      <td>25.428571</td>\n",
       "      <td>34.000000</td>\n",
       "      <td>43.285714</td>\n",
       "      <td>1008.000000</td>\n",
       "    </tr>\n",
       "    <tr>\n",
       "      <th>2010-01-17</th>\n",
       "      <td>30</td>\n",
       "      <td>0.0</td>\n",
       "      <td>0.461621</td>\n",
       "      <td>24.142857</td>\n",
       "      <td>34.000000</td>\n",
       "      <td>43.857143</td>\n",
       "      <td>1010.285714</td>\n",
       "    </tr>\n",
       "    <tr>\n",
       "      <th>2010-01-24</th>\n",
       "      <td>51</td>\n",
       "      <td>0.0</td>\n",
       "      <td>0.784756</td>\n",
       "      <td>23.714286</td>\n",
       "      <td>34.285714</td>\n",
       "      <td>39.285714</td>\n",
       "      <td>1009.000000</td>\n",
       "    </tr>\n",
       "    <tr>\n",
       "      <th>2010-01-31</th>\n",
       "      <td>58</td>\n",
       "      <td>0.0</td>\n",
       "      <td>0.892467</td>\n",
       "      <td>23.857143</td>\n",
       "      <td>33.857143</td>\n",
       "      <td>41.285714</td>\n",
       "      <td>1009.857143</td>\n",
       "    </tr>\n",
       "  </tbody>\n",
       "</table>\n",
       "</div>"
      ],
      "text/plain": [
       "            casos_3304557  p_rt1_3304557  p_inc100k_3304557  temp_min_3304557  \\\n",
       "2010-01-03             30            0.0           0.461621         24.333333   \n",
       "2010-01-10             46            0.0           0.707819         25.428571   \n",
       "2010-01-17             30            0.0           0.461621         24.142857   \n",
       "2010-01-24             51            0.0           0.784756         23.714286   \n",
       "2010-01-31             58            0.0           0.892467         23.857143   \n",
       "\n",
       "            temp_max_3304557  umid_min_3304557  pressao_min_3304557  \n",
       "2010-01-03         33.000000         42.000000          1009.666667  \n",
       "2010-01-10         34.000000         43.285714          1008.000000  \n",
       "2010-01-17         34.000000         43.857143          1010.285714  \n",
       "2010-01-24         34.285714         39.285714          1009.000000  \n",
       "2010-01-31         33.857143         41.285714          1009.857143  "
      ]
     },
     "execution_count": 4,
     "metadata": {},
     "output_type": "execute_result"
    }
   ],
   "source": [
    "usecols = ['casos_3304557', 'p_rt1_3304557', 'p_inc100k_3304557',\n",
    "       'temp_min_3304557', 'temp_max_3304557', 'umid_min_3304557',\n",
    "       'pressao_min_3304557']\n",
    "data = cluster_rj[usecols]\n",
    "data.head()\n"
   ]
  },
  {
   "cell_type": "code",
   "execution_count": 5,
   "metadata": {},
   "outputs": [
    {
     "data": {
      "text/plain": [
       "<matplotlib.axes._subplots.AxesSubplot at 0x7f4c14166a20>"
      ]
     },
     "execution_count": 5,
     "metadata": {},
     "output_type": "execute_result"
    },
    {
     "data": {
      "image/png": "[encoded data removed]",
      "text/plain": [
       "<Figure size 432x288 with 1 Axes>"
      ]
     },
     "metadata": {
      "needs_background": "light"
     },
     "output_type": "display_data"
    }
   ],
   "source": [
    "data.plot()"
   ]
  },
  {
   "cell_type": "markdown",
   "metadata": {},
   "source": [
    "## Normalizing and splitting train/tests sets"
   ]
  },
  {
   "cell_type": "code",
   "execution_count": 6,
   "metadata": {},
   "outputs": [
    {
     "data": {
      "text/html": [
       "<div>\n",
       "<style scoped>\n",
       "    .dataframe tbody tr th:only-of-type {\n",
       "        vertical-align: middle;\n",
       "    }\n",
       "\n",
       "    .dataframe tbody tr th {\n",
       "        vertical-align: top;\n",
       "    }\n",
       "\n",
       "    .dataframe thead th {\n",
       "        text-align: right;\n",
       "    }\n",
       "</style>\n",
       "<table border=\"1\" class=\"dataframe\">\n",
       "  <thead>\n",
       "    <tr style=\"text-align: right;\">\n",
       "      <th></th>\n",
       "      <th>casos_3304557</th>\n",
       "      <th>p_rt1_3304557</th>\n",
       "      <th>p_inc100k_3304557</th>\n",
       "      <th>temp_min_3304557</th>\n",
       "      <th>temp_max_3304557</th>\n",
       "      <th>umid_min_3304557</th>\n",
       "      <th>pressao_min_3304557</th>\n",
       "    </tr>\n",
       "  </thead>\n",
       "  <tbody>\n",
       "    <tr>\n",
       "      <th>2010-01-03</th>\n",
       "      <td>0.002018</td>\n",
       "      <td>0.0</td>\n",
       "      <td>0.002018</td>\n",
       "      <td>0.920721</td>\n",
       "      <td>0.891892</td>\n",
       "      <td>0.488451</td>\n",
       "      <td>0.982712</td>\n",
       "    </tr>\n",
       "    <tr>\n",
       "      <th>2010-01-10</th>\n",
       "      <td>0.003094</td>\n",
       "      <td>0.0</td>\n",
       "      <td>0.003094</td>\n",
       "      <td>0.962162</td>\n",
       "      <td>0.918919</td>\n",
       "      <td>0.503404</td>\n",
       "      <td>0.981090</td>\n",
       "    </tr>\n",
       "    <tr>\n",
       "      <th>2010-01-17</th>\n",
       "      <td>0.002018</td>\n",
       "      <td>0.0</td>\n",
       "      <td>0.002018</td>\n",
       "      <td>0.913514</td>\n",
       "      <td>0.918919</td>\n",
       "      <td>0.510049</td>\n",
       "      <td>0.983315</td>\n",
       "    </tr>\n",
       "    <tr>\n",
       "      <th>2010-01-24</th>\n",
       "      <td>0.003430</td>\n",
       "      <td>0.0</td>\n",
       "      <td>0.003430</td>\n",
       "      <td>0.897297</td>\n",
       "      <td>0.926641</td>\n",
       "      <td>0.456885</td>\n",
       "      <td>0.982063</td>\n",
       "    </tr>\n",
       "    <tr>\n",
       "      <th>2010-01-31</th>\n",
       "      <td>0.003901</td>\n",
       "      <td>0.0</td>\n",
       "      <td>0.003901</td>\n",
       "      <td>0.902703</td>\n",
       "      <td>0.915058</td>\n",
       "      <td>0.480144</td>\n",
       "      <td>0.982898</td>\n",
       "    </tr>\n",
       "  </tbody>\n",
       "</table>\n",
       "</div>"
      ],
      "text/plain": [
       "            casos_3304557  p_rt1_3304557  p_inc100k_3304557  temp_min_3304557  \\\n",
       "2010-01-03       0.002018            0.0           0.002018          0.920721   \n",
       "2010-01-10       0.003094            0.0           0.003094          0.962162   \n",
       "2010-01-17       0.002018            0.0           0.002018          0.913514   \n",
       "2010-01-24       0.003430            0.0           0.003430          0.897297   \n",
       "2010-01-31       0.003901            0.0           0.003901          0.902703   \n",
       "\n",
       "            temp_max_3304557  umid_min_3304557  pressao_min_3304557  \n",
       "2010-01-03          0.891892          0.488451             0.982712  \n",
       "2010-01-10          0.918919          0.503404             0.981090  \n",
       "2010-01-17          0.918919          0.510049             0.983315  \n",
       "2010-01-24          0.926641          0.456885             0.982063  \n",
       "2010-01-31          0.915058          0.480144             0.982898  "
      ]
     },
     "execution_count": 6,
     "metadata": {},
     "output_type": "execute_result"
    }
   ],
   "source": [
    "### Normalizing data\n",
    "min_values = np.min(data,axis=0)\n",
    "max_values = np.max(data,axis=0)\n",
    "data, _ = normalize_data(data)\n",
    "#print(\"data.index: \", data.index)\n",
    "#timestamps = pd.to_datetime(data.index)\n",
    "#data.index=timestamps\n",
    "data.head()"
   ]
  },
  {
   "cell_type": "markdown",
   "metadata": {},
   "source": [
    "#### Splitting train/test sets"
   ]
  },
  {
   "cell_type": "code",
   "execution_count": 7,
   "metadata": {},
   "outputs": [
    {
     "name": "stdout",
     "output_type": "stream",
     "text": [
      "234\n"
     ]
    }
   ],
   "source": [
    "predict_n=2 ## predicting two time steps in the future\n",
    "Y_column=0\n",
    "look_back=10 ## using 10 previous time steps as predictors\n",
    "ratio=0.5 \n",
    "### Splitting train/test sets\n",
    "X_train, y_train, X_test, y_test = split_data(data, look_back, ratio, predict_n, Y_column)\n",
    "#timestamps_train = "
   ]
  },
  {
   "cell_type": "markdown",
   "metadata": {},
   "source": [
    "We are looking back 10 weeks to get our training data:"
   ]
  },
  {
   "cell_type": "code",
   "execution_count": 8,
   "metadata": {},
   "outputs": [
    {
     "name": "stdout",
     "output_type": "stream",
     "text": [
      "Training X shape:  (234, 10, 7) \tTraining y shape:  (234, 2)\n",
      "Test X shape:  (243, 10, 7) \tTraining y shape:  (243, 2)\n"
     ]
    }
   ],
   "source": [
    "print(\"Training X shape: \", X_train.shape, \"\\tTraining y shape: \", y_train.shape)\n",
    "print(\"Test X shape: \", X_test.shape, \"\\tTraining y shape: \", y_test.shape)\n"
   ]
  },
  {
   "cell_type": "markdown",
   "metadata": {},
   "source": [
    "## LSTM model\n",
    "An LSTM model can be retrieved from `lstm.py`."
   ]
  },
  {
   "cell_type": "code",
   "execution_count": 9,
   "metadata": {},
   "outputs": [
    {
     "name": "stderr",
     "output_type": "stream",
     "text": [
      "WARNING: Logging before flag parsing goes to stderr.\n",
      "W1009 23:48:26.231961 139964815468288 deprecation_wrapper.py:119] From /home/rio/anaconda3/envs/infodengue/lib/python3.7/site-packages/keras/backend/tensorflow_backend.py:74: The name tf.get_default_graph is deprecated. Please use tf.compat.v1.get_default_graph instead.\n",
      "\n",
      "W1009 23:48:26.246442 139964815468288 deprecation_wrapper.py:119] From /home/rio/anaconda3/envs/infodengue/lib/python3.7/site-packages/keras/backend/tensorflow_backend.py:517: The name tf.placeholder is deprecated. Please use tf.compat.v1.placeholder instead.\n",
      "\n",
      "W1009 23:48:26.251175 139964815468288 deprecation_wrapper.py:119] From /home/rio/anaconda3/envs/infodengue/lib/python3.7/site-packages/keras/backend/tensorflow_backend.py:4138: The name tf.random_uniform is deprecated. Please use tf.random.uniform instead.\n",
      "\n",
      "W1009 23:48:26.286437 139964815468288 deprecation.py:506] From /home/rio/anaconda3/envs/infodengue/lib/python3.7/site-packages/keras/backend/tensorflow_backend.py:3445: calling dropout (from tensorflow.python.ops.nn_ops) with keep_prob is deprecated and will be removed in a future version.\n",
      "Instructions for updating:\n",
      "Please use `rate` instead of `keep_prob`. Rate should be set to `rate = 1 - keep_prob`.\n",
      "W1009 23:48:26.343967 139964815468288 variables.py:2445] Variable *= will be deprecated. Use `var.assign(var * other)` if you want assignment to the variable value or `x = x * y` if you want a new python Tensor object.\n",
      "W1009 23:48:26.783164 139964815468288 deprecation_wrapper.py:119] From /home/rio/anaconda3/envs/infodengue/lib/python3.7/site-packages/keras/optimizers.py:790: The name tf.train.Optimizer is deprecated. Please use tf.compat.v1.train.Optimizer instead.\n",
      "\n",
      "W1009 23:48:26.794501 139964815468288 deprecation_wrapper.py:119] From /home/rio/anaconda3/envs/infodengue/lib/python3.7/site-packages/keras/backend/tensorflow_backend.py:1521: The name tf.log is deprecated. Please use tf.math.log instead.\n",
      "\n"
     ]
    },
    {
     "name": "stdout",
     "output_type": "stream",
     "text": [
      "Compilation Time :  0.03400564193725586\n",
      "_________________________________________________________________\n",
      "Layer (type)                 Output Shape              Param #   \n",
      "=================================================================\n",
      "input_1 (InputLayer)         (39, 10, 7)               0         \n",
      "_________________________________________________________________\n",
      "lstm_1 (LSTM)                (39, 10, 4)               192       \n",
      "_________________________________________________________________\n",
      "dropout_1 (Dropout)          (39, 10, 4)               0         \n",
      "_________________________________________________________________\n",
      "lstm_2 (LSTM)                (39, 10, 4)               144       \n",
      "_________________________________________________________________\n",
      "dropout_2 (Dropout)          (39, 10, 4)               0         \n",
      "_________________________________________________________________\n",
      "lstm_3 (LSTM)                (39, 4)                   144       \n",
      "_________________________________________________________________\n",
      "dropout_3 (Dropout)          (39, 4)                   0         \n",
      "_________________________________________________________________\n",
      "dense_1 (Dense)              (39, 2)                   10        \n",
      "=================================================================\n",
      "Total params: 490\n",
      "Trainable params: 490\n",
      "Non-trainable params: 0\n",
      "_________________________________________________________________\n",
      "None\n"
     ]
    }
   ],
   "source": [
    "hidden=4\n",
    "features=7\n",
    "predict_n = 2\n",
    "look_back=10\n",
    "batch_size=39\n",
    "model = build_model(hidden, features, predict_n, look_back, batch_size)"
   ]
  },
  {
   "cell_type": "markdown",
   "metadata": {},
   "source": [
    "### Training model"
   ]
  },
  {
   "cell_type": "code",
   "execution_count": 10,
   "metadata": {},
   "outputs": [
    {
     "name": "stderr",
     "output_type": "stream",
     "text": [
      "../infodenguepredict/models/deeplearning/lstm.py:115: UserWarning: The `nb_epoch` argument in `fit` has been renamed `epochs`.\n",
      "  callbacks=[TB_callback, EarlyStopping(patience=15)]\n",
      "W1009 23:48:27.351622 139964815468288 deprecation.py:323] From /home/rio/anaconda3/envs/infodengue/lib/python3.7/site-packages/tensorflow/python/ops/math_grad.py:1250: add_dispatch_support.<locals>.wrapper (from tensorflow.python.ops.array_ops) is deprecated and will be removed in a future version.\n",
      "Instructions for updating:\n",
      "Use tf.where in 2.0, which has the same broadcast rule as np.where\n",
      "W1009 23:48:27.986934 139964815468288 deprecation_wrapper.py:119] From /home/rio/anaconda3/envs/infodengue/lib/python3.7/site-packages/keras/backend/tensorflow_backend.py:986: The name tf.assign_add is deprecated. Please use tf.compat.v1.assign_add instead.\n",
      "\n"
     ]
    },
    {
     "name": "stdout",
     "output_type": "stream",
     "text": [
      "Train on 198 samples, validate on 36 samples\n"
     ]
    },
    {
     "name": "stderr",
     "output_type": "stream",
     "text": [
      "W1009 23:48:28.446377 139964815468288 deprecation_wrapper.py:119] From /home/rio/anaconda3/envs/infodengue/lib/python3.7/site-packages/keras/callbacks.py:850: The name tf.summary.merge_all is deprecated. Please use tf.compat.v1.summary.merge_all instead.\n",
      "\n",
      "W1009 23:48:28.446865 139964815468288 deprecation_wrapper.py:119] From /home/rio/anaconda3/envs/infodengue/lib/python3.7/site-packages/keras/callbacks.py:853: The name tf.summary.FileWriter is deprecated. Please use tf.compat.v1.summary.FileWriter instead.\n",
      "\n"
     ]
    },
    {
     "name": "stdout",
     "output_type": "stream",
     "text": [
      "Epoch 1/20\n",
      "198/198 [==============================] - 10s 53ms/step - loss: 0.0231 - acc: 0.5087 - mean_absolute_percentage_error: 591.3844 - mean_squared_error: 0.0393 - val_loss: 0.0072 - val_acc: 0.4893 - val_mean_absolute_percentage_error: 1816.2110 - val_mean_squared_error: 0.0080\n",
      "Epoch 2/20\n",
      "198/198 [==============================] - 7s 35ms/step - loss: 0.0189 - acc: 0.5066 - mean_absolute_percentage_error: 540.7351 - mean_squared_error: 0.0332 - val_loss: 0.0057 - val_acc: 0.4715 - val_mean_absolute_percentage_error: 1317.7955 - val_mean_squared_error: 0.0066\n",
      "Epoch 3/20\n",
      "198/198 [==============================] - 6s 29ms/step - loss: 0.0142 - acc: 0.5205 - mean_absolute_percentage_error: 352.9905 - mean_squared_error: 0.0255 - val_loss: 0.0065 - val_acc: 0.4957 - val_mean_absolute_percentage_error: 1364.1376 - val_mean_squared_error: 0.0076\n",
      "Epoch 4/20\n",
      "198/198 [==============================] - 7s 38ms/step - loss: 0.0118 - acc: 0.5483 - mean_absolute_percentage_error: 316.2225 - mean_squared_error: 0.0214 - val_loss: 0.0035 - val_acc: 0.5192 - val_mean_absolute_percentage_error: 912.6054 - val_mean_squared_error: 0.0041\n",
      "Epoch 5/20\n",
      "198/198 [==============================] - 7s 34ms/step - loss: 0.0097 - acc: 0.5655 - mean_absolute_percentage_error: 266.9886 - mean_squared_error: 0.0176 - val_loss: 0.0015 - val_acc: 0.5128 - val_mean_absolute_percentage_error: 580.8553 - val_mean_squared_error: 0.0016\n",
      "Epoch 6/20\n",
      "198/198 [==============================] - 8s 39ms/step - loss: 0.0088 - acc: 0.5385 - mean_absolute_percentage_error: 227.9548 - mean_squared_error: 0.0162 - val_loss: 9.2201e-04 - val_acc: 0.5007 - val_mean_absolute_percentage_error: 407.9340 - val_mean_squared_error: 0.0010\n",
      "Epoch 7/20\n",
      "198/198 [==============================] - 8s 38ms/step - loss: 0.0076 - acc: 0.5412 - mean_absolute_percentage_error: 202.6883 - mean_squared_error: 0.0141 - val_loss: 6.3951e-04 - val_acc: 0.5321 - val_mean_absolute_percentage_error: 321.6312 - val_mean_squared_error: 6.9313e-04\n",
      "Epoch 8/20\n",
      "198/198 [==============================] - 6s 29ms/step - loss: 0.0069 - acc: 0.5508 - mean_absolute_percentage_error: 185.8219 - mean_squared_error: 0.0129 - val_loss: 9.1489e-04 - val_acc: 0.5157 - val_mean_absolute_percentage_error: 400.9855 - val_mean_squared_error: 9.9664e-04\n",
      "Epoch 9/20\n",
      "198/198 [==============================] - 6s 31ms/step - loss: 0.0071 - acc: 0.5745 - mean_absolute_percentage_error: 181.8654 - mean_squared_error: 0.0133 - val_loss: 0.0012 - val_acc: 0.5413 - val_mean_absolute_percentage_error: 504.5461 - val_mean_squared_error: 0.0013\n",
      "Epoch 10/20\n",
      "198/198 [==============================] - 6s 29ms/step - loss: 0.0066 - acc: 0.5438 - mean_absolute_percentage_error: 174.5010 - mean_squared_error: 0.0125 - val_loss: 9.0630e-04 - val_acc: 0.5235 - val_mean_absolute_percentage_error: 394.6706 - val_mean_squared_error: 9.8741e-04\n",
      "Epoch 11/20\n",
      "198/198 [==============================] - 9s 46ms/step - loss: 0.0067 - acc: 0.5566 - mean_absolute_percentage_error: 168.1616 - mean_squared_error: 0.0126 - val_loss: 6.1241e-04 - val_acc: 0.5028 - val_mean_absolute_percentage_error: 297.1344 - val_mean_squared_error: 6.6510e-04\n",
      "Epoch 12/20\n",
      "198/198 [==============================] - 7s 33ms/step - loss: 0.0066 - acc: 0.5339 - mean_absolute_percentage_error: 159.0664 - mean_squared_error: 0.0125 - val_loss: 9.3095e-04 - val_acc: 0.5235 - val_mean_absolute_percentage_error: 406.8572 - val_mean_squared_error: 0.0010\n",
      "Epoch 13/20\n",
      "198/198 [==============================] - 6s 32ms/step - loss: 0.0063 - acc: 0.5483 - mean_absolute_percentage_error: 168.8976 - mean_squared_error: 0.0118 - val_loss: 8.0394e-04 - val_acc: 0.4972 - val_mean_absolute_percentage_error: 369.1986 - val_mean_squared_error: 8.6926e-04\n",
      "Epoch 14/20\n",
      "198/198 [==============================] - 6s 28ms/step - loss: 0.0061 - acc: 0.5449 - mean_absolute_percentage_error: 161.6789 - mean_squared_error: 0.0115 - val_loss: 6.1695e-04 - val_acc: 0.5071 - val_mean_absolute_percentage_error: 309.3561 - val_mean_squared_error: 6.6568e-04\n",
      "Epoch 15/20\n",
      "198/198 [==============================] - 7s 35ms/step - loss: 0.0060 - acc: 0.5566 - mean_absolute_percentage_error: 156.1563 - mean_squared_error: 0.0115 - val_loss: 4.4244e-04 - val_acc: 0.5150 - val_mean_absolute_percentage_error: 251.0647 - val_mean_squared_error: 4.7531e-04\n",
      "Epoch 16/20\n",
      "198/198 [==============================] - 6s 29ms/step - loss: 0.0059 - acc: 0.5496 - mean_absolute_percentage_error: 152.0591 - mean_squared_error: 0.0111 - val_loss: 6.8875e-04 - val_acc: 0.5235 - val_mean_absolute_percentage_error: 344.8401 - val_mean_squared_error: 7.4020e-04\n",
      "Epoch 17/20\n",
      "198/198 [==============================] - 6s 30ms/step - loss: 0.0057 - acc: 0.5436 - mean_absolute_percentage_error: 164.4295 - mean_squared_error: 0.0109 - val_loss: 5.3577e-04 - val_acc: 0.5043 - val_mean_absolute_percentage_error: 286.9742 - val_mean_squared_error: 5.7547e-04\n",
      "Epoch 18/20\n",
      "198/198 [==============================] - 6s 30ms/step - loss: 0.0054 - acc: 0.5313 - mean_absolute_percentage_error: 141.6639 - mean_squared_error: 0.0103 - val_loss: 5.7061e-04 - val_acc: 0.5178 - val_mean_absolute_percentage_error: 290.6667 - val_mean_squared_error: 6.1423e-04\n",
      "Epoch 19/20\n",
      "198/198 [==============================] - 7s 35ms/step - loss: 0.0054 - acc: 0.5601 - mean_absolute_percentage_error: 155.5284 - mean_squared_error: 0.0103 - val_loss: 5.9930e-04 - val_acc: 0.5399 - val_mean_absolute_percentage_error: 297.9233 - val_mean_squared_error: 6.4614e-04\n",
      "Epoch 20/20\n",
      "198/198 [==============================] - 6s 28ms/step - loss: 0.0058 - acc: 0.5378 - mean_absolute_percentage_error: 155.3664 - mean_squared_error: 0.0112 - val_loss: 5.2028e-04 - val_acc: 0.5313 - val_mean_absolute_percentage_error: 278.7829 - val_mean_squared_error: 5.6060e-04\n"
     ]
    }
   ],
   "source": [
    "hist = train(model, X_train, y_train, batch_size=1, epochs=20, geocode=3304557, overwrite=True)"
   ]
  },
  {
   "cell_type": "markdown",
   "metadata": {},
   "source": [
    "#### Training history"
   ]
  },
  {
   "cell_type": "code",
   "execution_count": 11,
   "metadata": {},
   "outputs": [
    {
     "data": {
      "image/png": "[encoded data removed]",
      "text/plain": [
       "<Figure size 432x288 with 1 Axes>"
      ]
     },
     "metadata": {
      "needs_background": "light"
     },
     "output_type": "display_data"
    }
   ],
   "source": [
    "plot_training_history(hist)"
   ]
  },
  {
   "cell_type": "markdown",
   "metadata": {},
   "source": [
    "#### Plotting predictions "
   ]
  },
  {
   "cell_type": "code",
   "execution_count": 12,
   "metadata": {},
   "outputs": [
    {
     "name": "stdout",
     "output_type": "stream",
     "text": [
      "Compilation Time :  0.02904343605041504\n",
      "_________________________________________________________________\n",
      "Layer (type)                 Output Shape              Param #   \n",
      "=================================================================\n",
      "input_2 (InputLayer)         (477, 10, 7)              0         \n",
      "_________________________________________________________________\n",
      "lstm_4 (LSTM)                (477, 10, 4)              192       \n",
      "_________________________________________________________________\n",
      "dropout_4 (Dropout)          (477, 10, 4)              0         \n",
      "_________________________________________________________________\n",
      "lstm_5 (LSTM)                (477, 10, 4)              144       \n",
      "_________________________________________________________________\n",
      "dropout_5 (Dropout)          (477, 10, 4)              0         \n",
      "_________________________________________________________________\n",
      "lstm_6 (LSTM)                (477, 4)                  144       \n",
      "_________________________________________________________________\n",
      "dropout_6 (Dropout)          (477, 4)                  0         \n",
      "_________________________________________________________________\n",
      "dense_2 (Dense)              (477, 2)                  10        \n",
      "=================================================================\n",
      "Total params: 490\n",
      "Trainable params: 490\n",
      "Non-trainable params: 0\n",
      "_________________________________________________________________\n",
      "None\n"
     ]
    },
    {
     "name": "stderr",
     "output_type": "stream",
     "text": [
      "100%|██████████| 10/10 [00:00<00:00, 10.47it/s]\n"
     ]
    }
   ],
   "source": [
    "n_shots=10\n",
    "hidden=4\n",
    "features=7\n",
    "predict_n=2\n",
    "look_back=10\n",
    "batch_size=477\n",
    "Xdata = np.concatenate((X_train,X_test))\n",
    "predicted = predict_with_dropout(model,Xdata,n_shots,hidden,features,predict_n,look_back,\\\n",
    "                         batch_size)\n",
    "Ydata = np.concatenate((y_train,y_test))\n",
    "index = data.index\n"
   ]
  },
  {
   "cell_type": "code",
   "execution_count": 13,
   "metadata": {},
   "outputs": [
    {
     "data": {
      "text/plain": [
       "(10, 477, 2)"
      ]
     },
     "execution_count": 13,
     "metadata": {},
     "output_type": "execute_result"
    }
   ],
   "source": [
    "predicted.shape"
   ]
  },
  {
   "cell_type": "markdown",
   "metadata": {},
   "source": [
    "# Generating confidence intervals"
   ]
  },
  {
   "cell_type": "code",
   "execution_count": 14,
   "metadata": {},
   "outputs": [
    {
     "name": "stdout",
     "output_type": "stream",
     "text": [
      "The autoreload extension is already loaded. To reload it, use:\n",
      "  %reload_ext autoreload\n"
     ]
    }
   ],
   "source": [
    "%load_ext autoreload\n",
    "%autoreload 2\n",
    "import numpy as np\n",
    "import pandas as pd\n",
    "import matplotlib.pyplot as plt\n",
    "#import os\n",
    "#os.chdir(\"..\")\n",
    "\n",
    "import sys\n",
    "sys.path.append('../')\n",
    "from infodenguepredict.models.deeplearning.lstm import *\n",
    "from infodenguepredict.metrics.metrics import *\n",
    "import pickle\n",
    "import getpass, os\n",
    "from keras.layers.core import Dense, Activation, Dropout\n",
    "from keras.layers.recurrent import LSTM\n",
    "from keras.models import Sequential\n",
    "from keras.utils.vis_utils import plot_model\n",
    "from keras.callbacks import TensorBoard, EarlyStopping\n",
    "from keras import backend as K\n",
    "from sklearn.metrics import *\n",
    "import pandas as pd\n",
    "from time import time"
   ]
  },
  {
   "cell_type": "code",
   "execution_count": 15,
   "metadata": {},
   "outputs": [
    {
     "name": "stdout",
     "output_type": "stream",
     "text": [
      "CPU times: user 36 ms, sys: 145 µs, total: 36.2 ms\n",
      "Wall time: 36 ms\n"
     ]
    },
    {
     "data": {
      "image/png": "[encoded data removed]",
      "text/plain": [
       "<Figure size 432x288 with 1 Axes>"
      ]
     },
     "metadata": {
      "needs_background": "light"
     },
     "output_type": "display_data"
    },
    {
     "data": {
      "image/png": "[encoded data removed]",
      "text/plain": [
       "<Figure size 432x288 with 1 Axes>"
      ]
     },
     "metadata": {
      "needs_background": "light"
     },
     "output_type": "display_data"
    },
    {
     "data": {
      "text/plain": [
       "<Figure size 432x288 with 0 Axes>"
      ]
     },
     "metadata": {},
     "output_type": "display_data"
    }
   ],
   "source": [
    "%%time\n",
    "#y_pred_train = model.predict(X_train,batch_size=1)\n",
    "#y_pred_test = model.predict(X_test,batch_size=1)\n",
    "#predicted = np.concatenate((y_pred_train,y_pred_test))\n",
    "#Xdata = np.concatenate((X_train,X_test))\n",
    "#predicted = predict_with_dropout(model,Xdata,n_predictions,batch_size=1)\n",
    "#Ydata = np.concatenate((y_train,y_test))\n",
    "#index = data.index\n",
    "#index = data.index[:]\n",
    "index = data.index\n",
    "label=\"Rio de Janeiro\"\n",
    "predict_n=2\n",
    "factor=cluster_rj.loc[:,'casos_3304557'].max()\n",
    "#split_point = int(len(indice)*0.5)\n",
    "ratio = 0.5\n",
    "look_back =10\n",
    "#plot_n = 2\n",
    "color_preds = [\"red\",\"brown\"]\n",
    "for plot_n, color_pred in enumerate(color_preds):\n",
    "    #print(\"plot for t+{}\".format(plot_n))\n",
    "    plot_predicted_vs_data(predicted, Ydata, index, label, ratio, factor,look_back,\n",
    "                          predict_n,plot_n,color_pred)\n",
    "    plt.figure()"
   ]
  },
  {
   "cell_type": "markdown",
   "metadata": {},
   "source": [
    "# Computing metrics on predictions\n",
    "\n",
    "These metrics are computed on (y_true, y_pred)"
   ]
  },
  {
   "cell_type": "code",
   "execution_count": 16,
   "metadata": {},
   "outputs": [
    {
     "name": "stdout",
     "output_type": "stream",
     "text": [
      "Metrics scores at t+1: \n"
     ]
    },
    {
     "data": {
      "text/html": [
       "<div>\n",
       "<style scoped>\n",
       "    .dataframe tbody tr th:only-of-type {\n",
       "        vertical-align: middle;\n",
       "    }\n",
       "\n",
       "    .dataframe tbody tr th {\n",
       "        vertical-align: top;\n",
       "    }\n",
       "\n",
       "    .dataframe thead th {\n",
       "        text-align: right;\n",
       "    }\n",
       "</style>\n",
       "<table border=\"1\" class=\"dataframe\">\n",
       "  <thead>\n",
       "    <tr style=\"text-align: right;\">\n",
       "      <th></th>\n",
       "      <th>explained_variance_score</th>\n",
       "      <th>mean_absolute_error</th>\n",
       "      <th>mean_squared_error</th>\n",
       "      <th>mean_squared_log_error</th>\n",
       "      <th>median_absolute_error</th>\n",
       "      <th>r2_score</th>\n",
       "    </tr>\n",
       "  </thead>\n",
       "  <tbody>\n",
       "    <tr>\n",
       "      <th>scores</th>\n",
       "      <td>0.88952</td>\n",
       "      <td>0.020765</td>\n",
       "      <td>0.002119</td>\n",
       "      <td>0.001087</td>\n",
       "      <td>0.008609</td>\n",
       "      <td>0.883665</td>\n",
       "    </tr>\n",
       "  </tbody>\n",
       "</table>\n",
       "</div>"
      ],
      "text/plain": [
       "        explained_variance_score  mean_absolute_error  mean_squared_error  \\\n",
       "scores                   0.88952             0.020765            0.002119   \n",
       "\n",
       "        mean_squared_log_error  median_absolute_error  r2_score  \n",
       "scores                0.001087               0.008609  0.883665  "
      ]
     },
     "execution_count": 16,
     "metadata": {},
     "output_type": "execute_result"
    }
   ],
   "source": [
    "y_pred = np.percentile(predicted, 50, axis=0)\n",
    "metrics=[]\n",
    "for t, (y_true, y) in enumerate(zip(Ydata.T,y_pred.T)):\n",
    "    metrics.append(compute_metrics(y_true,y))\n",
    "print(\"Metrics scores at t+1: \")\n",
    "metrics[0]"
   ]
  },
  {
   "cell_type": "code",
   "execution_count": 17,
   "metadata": {},
   "outputs": [
    {
     "name": "stdout",
     "output_type": "stream",
     "text": [
      "Metrics scores at t+2: \n"
     ]
    },
    {
     "data": {
      "text/html": [
       "<div>\n",
       "<style scoped>\n",
       "    .dataframe tbody tr th:only-of-type {\n",
       "        vertical-align: middle;\n",
       "    }\n",
       "\n",
       "    .dataframe tbody tr th {\n",
       "        vertical-align: top;\n",
       "    }\n",
       "\n",
       "    .dataframe thead th {\n",
       "        text-align: right;\n",
       "    }\n",
       "</style>\n",
       "<table border=\"1\" class=\"dataframe\">\n",
       "  <thead>\n",
       "    <tr style=\"text-align: right;\">\n",
       "      <th></th>\n",
       "      <th>explained_variance_score</th>\n",
       "      <th>mean_absolute_error</th>\n",
       "      <th>mean_squared_error</th>\n",
       "      <th>mean_squared_log_error</th>\n",
       "      <th>median_absolute_error</th>\n",
       "      <th>r2_score</th>\n",
       "    </tr>\n",
       "  </thead>\n",
       "  <tbody>\n",
       "    <tr>\n",
       "      <th>scores</th>\n",
       "      <td>0.860159</td>\n",
       "      <td>0.023193</td>\n",
       "      <td>0.002635</td>\n",
       "      <td>0.001371</td>\n",
       "      <td>0.008609</td>\n",
       "      <td>0.85527</td>\n",
       "    </tr>\n",
       "  </tbody>\n",
       "</table>\n",
       "</div>"
      ],
      "text/plain": [
       "        explained_variance_score  mean_absolute_error  mean_squared_error  \\\n",
       "scores                  0.860159             0.023193            0.002635   \n",
       "\n",
       "        mean_squared_log_error  median_absolute_error  r2_score  \n",
       "scores                0.001371               0.008609   0.85527  "
      ]
     },
     "execution_count": 17,
     "metadata": {},
     "output_type": "execute_result"
    }
   ],
   "source": [
    "print(\"Metrics scores at t+2: \")\n",
    "metrics[1]"
   ]
  },
  {
   "cell_type": "markdown",
   "metadata": {},
   "source": [
    "# Computing correlations between residues and features\n",
    "\n",
    "The Pearson-r correlations are computed between the residues y_true-y_pred and each predictor for each time step in the past looked back. "
   ]
  },
  {
   "cell_type": "code",
   "execution_count": 18,
   "metadata": {},
   "outputs": [
    {
     "name": "stderr",
     "output_type": "stream",
     "text": [
      "100%|██████████| 10/10 [00:00<00:00, 316.52it/s]\n",
      "100%|██████████| 10/10 [00:00<00:00, 709.05it/s]\n"
     ]
    }
   ],
   "source": [
    "predictors_df = data.iloc[:,1:]\n",
    "look_back=10\n",
    "predict_n=2\n",
    "all_correlations = []\n",
    "for t, (y_true, y) in enumerate(zip(Ydata.T,y_pred.T)):\n",
    "    all_correlations.append(compute_residue_predictor_correlations(y_true,y, predictors_df, look_back,\n",
    "                                           predict_n))"
   ]
  },
  {
   "cell_type": "code",
   "execution_count": 21,
   "metadata": {},
   "outputs": [
    {
     "name": "stdout",
     "output_type": "stream",
     "text": [
      "Correlations for residues at t+1: \n"
     ]
    },
    {
     "data": {
      "text/html": [
       "<div>\n",
       "<style scoped>\n",
       "    .dataframe tbody tr th:only-of-type {\n",
       "        vertical-align: middle;\n",
       "    }\n",
       "\n",
       "    .dataframe tbody tr th {\n",
       "        vertical-align: top;\n",
       "    }\n",
       "\n",
       "    .dataframe thead th {\n",
       "        text-align: right;\n",
       "    }\n",
       "</style>\n",
       "<table border=\"1\" class=\"dataframe\">\n",
       "  <thead>\n",
       "    <tr style=\"text-align: right;\">\n",
       "      <th></th>\n",
       "      <th>p_rt1_3304557</th>\n",
       "      <th>p_inc100k_3304557</th>\n",
       "      <th>temp_min_3304557</th>\n",
       "      <th>temp_max_3304557</th>\n",
       "      <th>umid_min_3304557</th>\n",
       "      <th>pressao_min_3304557</th>\n",
       "    </tr>\n",
       "  </thead>\n",
       "  <tbody>\n",
       "    <tr>\n",
       "      <th>t-1</th>\n",
       "      <td>0.012974</td>\n",
       "      <td>0.453884</td>\n",
       "      <td>0.009702</td>\n",
       "      <td>0.052748</td>\n",
       "      <td>-0.043555</td>\n",
       "      <td>0.029293</td>\n",
       "    </tr>\n",
       "    <tr>\n",
       "      <th>t-2</th>\n",
       "      <td>-0.012702</td>\n",
       "      <td>0.394462</td>\n",
       "      <td>0.016441</td>\n",
       "      <td>0.051291</td>\n",
       "      <td>-0.039097</td>\n",
       "      <td>0.018786</td>\n",
       "    </tr>\n",
       "    <tr>\n",
       "      <th>t-3</th>\n",
       "      <td>-0.029476</td>\n",
       "      <td>0.329076</td>\n",
       "      <td>0.030147</td>\n",
       "      <td>0.057869</td>\n",
       "      <td>-0.039160</td>\n",
       "      <td>-0.042971</td>\n",
       "    </tr>\n",
       "    <tr>\n",
       "      <th>t-4</th>\n",
       "      <td>-0.016233</td>\n",
       "      <td>0.314435</td>\n",
       "      <td>0.047942</td>\n",
       "      <td>0.086707</td>\n",
       "      <td>-0.068638</td>\n",
       "      <td>-0.080189</td>\n",
       "    </tr>\n",
       "    <tr>\n",
       "      <th>t-5</th>\n",
       "      <td>0.020174</td>\n",
       "      <td>0.291232</td>\n",
       "      <td>0.040783</td>\n",
       "      <td>0.112693</td>\n",
       "      <td>-0.117127</td>\n",
       "      <td>-0.043935</td>\n",
       "    </tr>\n",
       "    <tr>\n",
       "      <th>t-6</th>\n",
       "      <td>0.063134</td>\n",
       "      <td>0.267705</td>\n",
       "      <td>0.052735</td>\n",
       "      <td>0.133805</td>\n",
       "      <td>-0.144411</td>\n",
       "      <td>-0.034735</td>\n",
       "    </tr>\n",
       "    <tr>\n",
       "      <th>t-7</th>\n",
       "      <td>0.067391</td>\n",
       "      <td>0.235948</td>\n",
       "      <td>0.082213</td>\n",
       "      <td>0.155633</td>\n",
       "      <td>-0.146445</td>\n",
       "      <td>-0.003704</td>\n",
       "    </tr>\n",
       "    <tr>\n",
       "      <th>t-8</th>\n",
       "      <td>0.037068</td>\n",
       "      <td>0.199360</td>\n",
       "      <td>0.097375</td>\n",
       "      <td>0.158626</td>\n",
       "      <td>-0.128454</td>\n",
       "      <td>-0.029942</td>\n",
       "    </tr>\n",
       "    <tr>\n",
       "      <th>t-9</th>\n",
       "      <td>0.057206</td>\n",
       "      <td>0.172973</td>\n",
       "      <td>0.099681</td>\n",
       "      <td>0.137360</td>\n",
       "      <td>-0.097700</td>\n",
       "      <td>-0.054651</td>\n",
       "    </tr>\n",
       "    <tr>\n",
       "      <th>t-10</th>\n",
       "      <td>0.077380</td>\n",
       "      <td>0.156524</td>\n",
       "      <td>0.082128</td>\n",
       "      <td>0.106805</td>\n",
       "      <td>-0.078214</td>\n",
       "      <td>0.015861</td>\n",
       "    </tr>\n",
       "  </tbody>\n",
       "</table>\n",
       "</div>"
      ],
      "text/plain": [
       "      p_rt1_3304557  p_inc100k_3304557  temp_min_3304557  temp_max_3304557  \\\n",
       "t-1        0.012974           0.453884          0.009702          0.052748   \n",
       "t-2       -0.012702           0.394462          0.016441          0.051291   \n",
       "t-3       -0.029476           0.329076          0.030147          0.057869   \n",
       "t-4       -0.016233           0.314435          0.047942          0.086707   \n",
       "t-5        0.020174           0.291232          0.040783          0.112693   \n",
       "t-6        0.063134           0.267705          0.052735          0.133805   \n",
       "t-7        0.067391           0.235948          0.082213          0.155633   \n",
       "t-8        0.037068           0.199360          0.097375          0.158626   \n",
       "t-9        0.057206           0.172973          0.099681          0.137360   \n",
       "t-10       0.077380           0.156524          0.082128          0.106805   \n",
       "\n",
       "      umid_min_3304557  pressao_min_3304557  \n",
       "t-1          -0.043555             0.029293  \n",
       "t-2          -0.039097             0.018786  \n",
       "t-3          -0.039160            -0.042971  \n",
       "t-4          -0.068638            -0.080189  \n",
       "t-5          -0.117127            -0.043935  \n",
       "t-6          -0.144411            -0.034735  \n",
       "t-7          -0.146445            -0.003704  \n",
       "t-8          -0.128454            -0.029942  \n",
       "t-9          -0.097700            -0.054651  \n",
       "t-10         -0.078214             0.015861  "
      ]
     },
     "execution_count": 21,
     "metadata": {},
     "output_type": "execute_result"
    }
   ],
   "source": [
    "print(\"Correlations for residues at t+1: \")\n",
    "all_correlations[0]"
   ]
  },
  {
   "cell_type": "code",
   "execution_count": 22,
   "metadata": {},
   "outputs": [
    {
     "name": "stdout",
     "output_type": "stream",
     "text": [
      "Correlations for residues at t+2: \n"
     ]
    },
    {
     "data": {
      "text/html": [
       "<div>\n",
       "<style scoped>\n",
       "    .dataframe tbody tr th:only-of-type {\n",
       "        vertical-align: middle;\n",
       "    }\n",
       "\n",
       "    .dataframe tbody tr th {\n",
       "        vertical-align: top;\n",
       "    }\n",
       "\n",
       "    .dataframe thead th {\n",
       "        text-align: right;\n",
       "    }\n",
       "</style>\n",
       "<table border=\"1\" class=\"dataframe\">\n",
       "  <thead>\n",
       "    <tr style=\"text-align: right;\">\n",
       "      <th></th>\n",
       "      <th>p_rt1_3304557</th>\n",
       "      <th>p_inc100k_3304557</th>\n",
       "      <th>temp_min_3304557</th>\n",
       "      <th>temp_max_3304557</th>\n",
       "      <th>umid_min_3304557</th>\n",
       "      <th>pressao_min_3304557</th>\n",
       "    </tr>\n",
       "  </thead>\n",
       "  <tbody>\n",
       "    <tr>\n",
       "      <th>t-1</th>\n",
       "      <td>0.128082</td>\n",
       "      <td>0.390246</td>\n",
       "      <td>0.093448</td>\n",
       "      <td>0.117094</td>\n",
       "      <td>-0.058273</td>\n",
       "      <td>0.012194</td>\n",
       "    </tr>\n",
       "    <tr>\n",
       "      <th>t-2</th>\n",
       "      <td>0.077746</td>\n",
       "      <td>0.286203</td>\n",
       "      <td>0.101098</td>\n",
       "      <td>0.132233</td>\n",
       "      <td>-0.079993</td>\n",
       "      <td>0.024733</td>\n",
       "    </tr>\n",
       "    <tr>\n",
       "      <th>t-3</th>\n",
       "      <td>0.058292</td>\n",
       "      <td>0.200977</td>\n",
       "      <td>0.094374</td>\n",
       "      <td>0.136762</td>\n",
       "      <td>-0.089480</td>\n",
       "      <td>-0.064735</td>\n",
       "    </tr>\n",
       "    <tr>\n",
       "      <th>t-4</th>\n",
       "      <td>0.065932</td>\n",
       "      <td>0.151014</td>\n",
       "      <td>0.095825</td>\n",
       "      <td>0.155017</td>\n",
       "      <td>-0.124233</td>\n",
       "      <td>-0.039883</td>\n",
       "    </tr>\n",
       "    <tr>\n",
       "      <th>t-5</th>\n",
       "      <td>0.084435</td>\n",
       "      <td>0.109405</td>\n",
       "      <td>0.091955</td>\n",
       "      <td>0.187310</td>\n",
       "      <td>-0.173194</td>\n",
       "      <td>-0.030167</td>\n",
       "    </tr>\n",
       "    <tr>\n",
       "      <th>t-6</th>\n",
       "      <td>0.086879</td>\n",
       "      <td>0.066197</td>\n",
       "      <td>0.077197</td>\n",
       "      <td>0.182148</td>\n",
       "      <td>-0.185842</td>\n",
       "      <td>-0.053046</td>\n",
       "    </tr>\n",
       "    <tr>\n",
       "      <th>t-7</th>\n",
       "      <td>0.070043</td>\n",
       "      <td>0.039260</td>\n",
       "      <td>0.108239</td>\n",
       "      <td>0.196656</td>\n",
       "      <td>-0.171904</td>\n",
       "      <td>-0.003128</td>\n",
       "    </tr>\n",
       "    <tr>\n",
       "      <th>t-8</th>\n",
       "      <td>0.048282</td>\n",
       "      <td>0.018921</td>\n",
       "      <td>0.102749</td>\n",
       "      <td>0.173310</td>\n",
       "      <td>-0.146213</td>\n",
       "      <td>-0.028943</td>\n",
       "    </tr>\n",
       "    <tr>\n",
       "      <th>t-9</th>\n",
       "      <td>0.072186</td>\n",
       "      <td>0.006553</td>\n",
       "      <td>0.089332</td>\n",
       "      <td>0.145330</td>\n",
       "      <td>-0.115158</td>\n",
       "      <td>-0.008011</td>\n",
       "    </tr>\n",
       "    <tr>\n",
       "      <th>t-10</th>\n",
       "      <td>0.074910</td>\n",
       "      <td>0.004516</td>\n",
       "      <td>0.066256</td>\n",
       "      <td>0.097802</td>\n",
       "      <td>-0.069020</td>\n",
       "      <td>0.005893</td>\n",
       "    </tr>\n",
       "  </tbody>\n",
       "</table>\n",
       "</div>"
      ],
      "text/plain": [
       "      p_rt1_3304557  p_inc100k_3304557  temp_min_3304557  temp_max_3304557  \\\n",
       "t-1        0.128082           0.390246          0.093448          0.117094   \n",
       "t-2        0.077746           0.286203          0.101098          0.132233   \n",
       "t-3        0.058292           0.200977          0.094374          0.136762   \n",
       "t-4        0.065932           0.151014          0.095825          0.155017   \n",
       "t-5        0.084435           0.109405          0.091955          0.187310   \n",
       "t-6        0.086879           0.066197          0.077197          0.182148   \n",
       "t-7        0.070043           0.039260          0.108239          0.196656   \n",
       "t-8        0.048282           0.018921          0.102749          0.173310   \n",
       "t-9        0.072186           0.006553          0.089332          0.145330   \n",
       "t-10       0.074910           0.004516          0.066256          0.097802   \n",
       "\n",
       "      umid_min_3304557  pressao_min_3304557  \n",
       "t-1          -0.058273             0.012194  \n",
       "t-2          -0.079993             0.024733  \n",
       "t-3          -0.089480            -0.064735  \n",
       "t-4          -0.124233            -0.039883  \n",
       "t-5          -0.173194            -0.030167  \n",
       "t-6          -0.185842            -0.053046  \n",
       "t-7          -0.171904            -0.003128  \n",
       "t-8          -0.146213            -0.028943  \n",
       "t-9          -0.115158            -0.008011  \n",
       "t-10         -0.069020             0.005893  "
      ]
     },
     "execution_count": 22,
     "metadata": {},
     "output_type": "execute_result"
    }
   ],
   "source": [
    "print(\"Correlations for residues at t+2: \")\n",
    "all_correlations[1]"
   ]
  },
  {
   "cell_type": "markdown",
   "metadata": {},
   "source": [
    "######################################################"
   ]
  },
  {
   "cell_type": "markdown",
   "metadata": {},
   "source": [
    "########################################################"
   ]
  },
  {
   "cell_type": "markdown",
   "metadata": {},
   "source": [
    "#########################################################"
   ]
  },
  {
   "cell_type": "markdown",
   "metadata": {},
   "source": [
    "## Nova Iguaçu\n",
    "\n",
    "Let us now train a model for Nova Iguaçu"
   ]
  },
  {
   "cell_type": "code",
   "execution_count": 60,
   "metadata": {},
   "outputs": [
    {
     "name": "stdout",
     "output_type": "stream",
     "text": [
      "Enter the database password: ········\n"
     ]
    }
   ],
   "source": [
    "os.environ['PSQL_USER']='dengue_ro'\n",
    "os.environ['PSQL_HOST']='localhost'\n",
    "os.environ['PSQL_DB']='dengue_ro'\n",
    "os.environ['PSQL_PASSWORD']=getpass.getpass(\"Enter the database password: \")"
   ]
  },
  {
   "cell_type": "markdown",
   "metadata": {},
   "source": [
    "#### Getting and normalizing  dengue data"
   ]
  },
  {
   "cell_type": "code",
   "execution_count": 61,
   "metadata": {},
   "outputs": [
    {
     "name": "stdout",
     "output_type": "stream",
     "text": [
      "Shape of data:  (282, 7)\n"
     ]
    },
    {
     "data": {
      "text/html": [
       "<div>\n",
       "<style scoped>\n",
       "    .dataframe tbody tr th:only-of-type {\n",
       "        vertical-align: middle;\n",
       "    }\n",
       "\n",
       "    .dataframe tbody tr th {\n",
       "        vertical-align: top;\n",
       "    }\n",
       "\n",
       "    .dataframe thead th {\n",
       "        text-align: right;\n",
       "    }\n",
       "</style>\n",
       "<table border=\"1\" class=\"dataframe\">\n",
       "  <thead>\n",
       "    <tr style=\"text-align: right;\">\n",
       "      <th></th>\n",
       "      <th>casos_3303500</th>\n",
       "      <th>p_rt1_3303500</th>\n",
       "      <th>p_inc100k_3303500</th>\n",
       "      <th>temp_min_3303500</th>\n",
       "      <th>temp_max_3303500</th>\n",
       "      <th>umid_min_3303500</th>\n",
       "      <th>pressao_min_3303500</th>\n",
       "    </tr>\n",
       "  </thead>\n",
       "  <tbody>\n",
       "    <tr>\n",
       "      <th>2012-01-01</th>\n",
       "      <td>0.129338</td>\n",
       "      <td>0.996510</td>\n",
       "      <td>0.129337</td>\n",
       "      <td>0.863720</td>\n",
       "      <td>0.780804</td>\n",
       "      <td>0.715183</td>\n",
       "      <td>0.982919</td>\n",
       "    </tr>\n",
       "    <tr>\n",
       "      <th>2012-01-08</th>\n",
       "      <td>0.201893</td>\n",
       "      <td>0.999718</td>\n",
       "      <td>0.201892</td>\n",
       "      <td>0.839779</td>\n",
       "      <td>0.782101</td>\n",
       "      <td>0.645548</td>\n",
       "      <td>0.986736</td>\n",
       "    </tr>\n",
       "    <tr>\n",
       "      <th>2012-01-15</th>\n",
       "      <td>0.160883</td>\n",
       "      <td>0.814445</td>\n",
       "      <td>0.160883</td>\n",
       "      <td>0.895028</td>\n",
       "      <td>0.856031</td>\n",
       "      <td>0.535959</td>\n",
       "      <td>0.988271</td>\n",
       "    </tr>\n",
       "    <tr>\n",
       "      <th>2012-01-22</th>\n",
       "      <td>0.274448</td>\n",
       "      <td>0.997989</td>\n",
       "      <td>0.274448</td>\n",
       "      <td>0.906077</td>\n",
       "      <td>0.871595</td>\n",
       "      <td>0.537671</td>\n",
       "      <td>0.987434</td>\n",
       "    </tr>\n",
       "    <tr>\n",
       "      <th>2012-01-29</th>\n",
       "      <td>0.315457</td>\n",
       "      <td>0.997224</td>\n",
       "      <td>0.315457</td>\n",
       "      <td>0.856354</td>\n",
       "      <td>0.809339</td>\n",
       "      <td>0.611301</td>\n",
       "      <td>0.987154</td>\n",
       "    </tr>\n",
       "  </tbody>\n",
       "</table>\n",
       "</div>"
      ],
      "text/plain": [
       "            casos_3303500  p_rt1_3303500  p_inc100k_3303500  temp_min_3303500  \\\n",
       "2012-01-01       0.129338       0.996510           0.129337          0.863720   \n",
       "2012-01-08       0.201893       0.999718           0.201892          0.839779   \n",
       "2012-01-15       0.160883       0.814445           0.160883          0.895028   \n",
       "2012-01-22       0.274448       0.997989           0.274448          0.906077   \n",
       "2012-01-29       0.315457       0.997224           0.315457          0.856354   \n",
       "\n",
       "            temp_max_3303500  umid_min_3303500  pressao_min_3303500  \n",
       "2012-01-01          0.780804          0.715183             0.982919  \n",
       "2012-01-08          0.782101          0.645548             0.986736  \n",
       "2012-01-15          0.856031          0.535959             0.988271  \n",
       "2012-01-22          0.871595          0.537671             0.987434  \n",
       "2012-01-29          0.809339          0.611301             0.987154  "
      ]
     },
     "execution_count": 61,
     "metadata": {},
     "output_type": "execute_result"
    }
   ],
   "source": [
    "geocodes = {\"rio\": 3304557, \"n_iguacu\": 3303500}\n",
    "features = ['casos_', 'p_rt1_', 'p_inc100k_',\n",
    "       'temp_min_', 'temp_max_', 'umid_min_',\n",
    "       'pressao_min_']\n",
    "usecols = [f + str(geocodes[\"n_iguacu\"]) for f in features]\n",
    "df, _ = get_cluster_data(geocodes[\"n_iguacu\"], clusters=[], data_types=[\"alerta\", \"weather\"], \\\n",
    "                 cols=None, save=False, doenca='dengue')\n",
    "data=df.loc[:,usecols]\n",
    "timestamps=data.index\n",
    "#data = df[usecols]\n",
    "### Normalizing data\n",
    "min_values = np.min(data,axis=0)\n",
    "max_values = np.max(data,axis=0)\n",
    "data, _ = normalize_data(data)\n",
    "data.index=timestamps\n",
    "print(\"Shape of data: \", data.shape)\n",
    "data.head()\n",
    "#df"
   ]
  },
  {
   "cell_type": "markdown",
   "metadata": {},
   "source": [
    "#### Splitting train/test sets"
   ]
  },
  {
   "cell_type": "code",
   "execution_count": 62,
   "metadata": {},
   "outputs": [
    {
     "name": "stdout",
     "output_type": "stream",
     "text": [
      "train size:  201\n",
      "X_train shape: (201, 10, 7)\t y_train shape: (201, 1)\n",
      "\n",
      "X_test shape: (71, 10, 7)\t y_test shape: (71, 1)\n",
      "\n"
     ]
    }
   ],
   "source": [
    "X_train, y_train, X_test, y_test = split_data(data, look_back=10, ratio=0.75, predict_n=1, Y_column=0)\n",
    "print(\"X_train shape: {}\\t y_train shape: {}\\n\".format(X_train.shape,y_train.shape))\n",
    "print(\"X_test shape: {}\\t y_test shape: {}\\n\".format(X_test.shape,y_test.shape))"
   ]
  },
  {
   "cell_type": "markdown",
   "metadata": {},
   "source": [
    "#### Running model"
   ]
  },
  {
   "cell_type": "code",
   "execution_count": 63,
   "metadata": {},
   "outputs": [
    {
     "name": "stdout",
     "output_type": "stream",
     "text": [
      "Compilation Time :  0.024903059005737305\n",
      "_________________________________________________________________\n",
      "Layer (type)                 Output Shape              Param #   \n",
      "=================================================================\n",
      "input_11 (InputLayer)        (67, 10, 7)               0         \n",
      "_________________________________________________________________\n",
      "lstm_31 (LSTM)               (67, 10, 4)               192       \n",
      "_________________________________________________________________\n",
      "dropout_31 (Dropout)         (67, 10, 4)               0         \n",
      "_________________________________________________________________\n",
      "lstm_32 (LSTM)               (67, 10, 4)               144       \n",
      "_________________________________________________________________\n",
      "dropout_32 (Dropout)         (67, 10, 4)               0         \n",
      "_________________________________________________________________\n",
      "lstm_33 (LSTM)               (67, 4)                   144       \n",
      "_________________________________________________________________\n",
      "dropout_33 (Dropout)         (67, 4)                   0         \n",
      "_________________________________________________________________\n",
      "dense_11 (Dense)             (67, 1)                   5         \n",
      "=================================================================\n",
      "Total params: 485\n",
      "Trainable params: 485\n",
      "Non-trainable params: 0\n",
      "_________________________________________________________________\n",
      "None\n"
     ]
    },
    {
     "name": "stderr",
     "output_type": "stream",
     "text": [
      "/home/rio/geomed/Analysis/lstm.py:173: UserWarning: The `nb_epoch` argument in `fit` has been renamed `epochs`.\n",
      "  callbacks=[TB_callback, es, cp]\n"
     ]
    },
    {
     "name": "stdout",
     "output_type": "stream",
     "text": [
      "Train on 170 samples, validate on 31 samples\n",
      "Epoch 1/20\n",
      "170/170 [==============================] - 8s 46ms/step - loss: 0.0299 - acc: 0.0059 - mean_absolute_percentage_error: 790620.7878 - mean_squared_error: 0.0529 - val_loss: 0.0108 - val_acc: 0.0000e+00 - val_mean_absolute_percentage_error: 268.6704 - val_mean_squared_error: 0.0147\n",
      "Epoch 2/20\n",
      "170/170 [==============================] - 5s 32ms/step - loss: 0.0255 - acc: 0.0059 - mean_absolute_percentage_error: 547584.9587 - mean_squared_error: 0.0460 - val_loss: 0.0101 - val_acc: 0.0000e+00 - val_mean_absolute_percentage_error: 159.8642 - val_mean_squared_error: 0.0141\n",
      "Epoch 3/20\n",
      "170/170 [==============================] - 6s 37ms/step - loss: 0.0186 - acc: 0.0059 - mean_absolute_percentage_error: 247072.2046 - mean_squared_error: 0.0349 - val_loss: 0.0105 - val_acc: 0.0000e+00 - val_mean_absolute_percentage_error: 168.2371 - val_mean_squared_error: 0.0151\n",
      "Epoch 4/20\n",
      "170/170 [==============================] - 4s 24ms/step - loss: 0.0158 - acc: 0.0069 - mean_absolute_percentage_error: 296579.5175 - mean_squared_error: 0.0300 - val_loss: 0.0098 - val_acc: 0.0000e+00 - val_mean_absolute_percentage_error: 131.3079 - val_mean_squared_error: 0.0147\n",
      "Epoch 5/20\n",
      "170/170 [==============================] - 7s 39ms/step - loss: 0.0133 - acc: 0.0069 - mean_absolute_percentage_error: 180064.2673 - mean_squared_error: 0.0255 - val_loss: 0.0079 - val_acc: 0.0000e+00 - val_mean_absolute_percentage_error: 100.1567 - val_mean_squared_error: 0.0119\n",
      "Epoch 6/20\n",
      "170/170 [==============================] - 8s 48ms/step - loss: 0.0116 - acc: 0.0089 - mean_absolute_percentage_error: 211415.2503 - mean_squared_error: 0.0226 - val_loss: 0.0078 - val_acc: 0.0000e+00 - val_mean_absolute_percentage_error: 87.8171 - val_mean_squared_error: 0.0121\n",
      "Epoch 7/20\n",
      "170/170 [==============================] - 5s 31ms/step - loss: 0.0106 - acc: 0.0092 - mean_absolute_percentage_error: 301621.5825 - mean_squared_error: 0.0206 - val_loss: 0.0056 - val_acc: 0.0000e+00 - val_mean_absolute_percentage_error: 99.5479 - val_mean_squared_error: 0.0086\n",
      "Epoch 8/20\n",
      "170/170 [==============================] - 7s 42ms/step - loss: 0.0101 - acc: 0.0083 - mean_absolute_percentage_error: 195771.8253 - mean_squared_error: 0.0201 - val_loss: 0.0079 - val_acc: 0.0000e+00 - val_mean_absolute_percentage_error: 114.0185 - val_mean_squared_error: 0.0130\n",
      "Epoch 9/20\n",
      "170/170 [==============================] - 8s 45ms/step - loss: 0.0095 - acc: 0.0101 - mean_absolute_percentage_error: 150063.7425 - mean_squared_error: 0.0189 - val_loss: 0.0064 - val_acc: 0.0000e+00 - val_mean_absolute_percentage_error: 78.7991 - val_mean_squared_error: 0.0095\n",
      "Epoch 10/20\n",
      "170/170 [==============================] - 5s 31ms/step - loss: 0.0095 - acc: 0.0093 - mean_absolute_percentage_error: 271078.9131 - mean_squared_error: 0.0189 - val_loss: 0.0058 - val_acc: 0.0000e+00 - val_mean_absolute_percentage_error: 79.0541 - val_mean_squared_error: 0.0091\n",
      "Epoch 11/20\n",
      "170/170 [==============================] - 7s 43ms/step - loss: 0.0091 - acc: 0.0095 - mean_absolute_percentage_error: 182977.7113 - mean_squared_error: 0.0181 - val_loss: 0.0058 - val_acc: 0.0000e+00 - val_mean_absolute_percentage_error: 73.7375 - val_mean_squared_error: 0.0086\n",
      "Epoch 12/20\n",
      "170/170 [==============================] - 8s 49ms/step - loss: 0.0086 - acc: 0.0081 - mean_absolute_percentage_error: 205519.3837 - mean_squared_error: 0.0174 - val_loss: 0.0062 - val_acc: 0.0000e+00 - val_mean_absolute_percentage_error: 74.1279 - val_mean_squared_error: 0.0092\n",
      "Epoch 13/20\n",
      "170/170 [==============================] - 4s 26ms/step - loss: 0.0086 - acc: 0.0090 - mean_absolute_percentage_error: 206444.5603 - mean_squared_error: 0.0172 - val_loss: 0.0059 - val_acc: 0.0000e+00 - val_mean_absolute_percentage_error: 78.7665 - val_mean_squared_error: 0.0090\n",
      "Epoch 14/20\n",
      "170/170 [==============================] - 7s 43ms/step - loss: 0.0085 - acc: 0.0097 - mean_absolute_percentage_error: 189241.8691 - mean_squared_error: 0.0173 - val_loss: 0.0069 - val_acc: 0.0000e+00 - val_mean_absolute_percentage_error: 86.2477 - val_mean_squared_error: 0.0113\n",
      "Epoch 15/20\n",
      "170/170 [==============================] - 6s 36ms/step - loss: 0.0086 - acc: 0.0095 - mean_absolute_percentage_error: 271350.0797 - mean_squared_error: 0.0172 - val_loss: 0.0055 - val_acc: 0.0000e+00 - val_mean_absolute_percentage_error: 82.1337 - val_mean_squared_error: 0.0086\n",
      "Epoch 16/20\n",
      "170/170 [==============================] - 4s 26ms/step - loss: 0.0085 - acc: 0.0095 - mean_absolute_percentage_error: 154236.2091 - mean_squared_error: 0.0172 - val_loss: 0.0064 - val_acc: 0.0000e+00 - val_mean_absolute_percentage_error: 92.0426 - val_mean_squared_error: 0.0107\n",
      "Epoch 17/20\n",
      "170/170 [==============================] - 7s 42ms/step - loss: 0.0083 - acc: 0.0083 - mean_absolute_percentage_error: 214376.7579 - mean_squared_error: 0.0168 - val_loss: 0.0065 - val_acc: 0.0000e+00 - val_mean_absolute_percentage_error: 79.7383 - val_mean_squared_error: 0.0105\n",
      "Epoch 18/20\n",
      "170/170 [==============================] - 5s 32ms/step - loss: 0.0081 - acc: 0.0096 - mean_absolute_percentage_error: 134739.7201 - mean_squared_error: 0.0162 - val_loss: 0.0065 - val_acc: 0.0000e+00 - val_mean_absolute_percentage_error: 80.6366 - val_mean_squared_error: 0.0104\n",
      "Epoch 19/20\n",
      "170/170 [==============================] - 6s 33ms/step - loss: 0.0079 - acc: 0.0096 - mean_absolute_percentage_error: 219401.1965 - mean_squared_error: 0.0162 - val_loss: 0.0074 - val_acc: 0.0000e+00 - val_mean_absolute_percentage_error: 98.4899 - val_mean_squared_error: 0.0127\n",
      "Epoch 20/20\n",
      "170/170 [==============================] - 7s 40ms/step - loss: 0.0078 - acc: 0.0097 - mean_absolute_percentage_error: 104832.2795 - mean_squared_error: 0.0158 - val_loss: 0.0063 - val_acc: 0.0000e+00 - val_mean_absolute_percentage_error: 82.4946 - val_mean_squared_error: 0.0102\n"
     ]
    }
   ],
   "source": [
    "batch_size=67\n",
    "model = build_model(hidden=4, features=7, predict_n=1, look_back=10, batch_size=batch_size)\n",
    "hist = train(model, X_train, y_train, batch_size=1, epochs=20, geocode=geocodes[\"n_iguacu\"], overwrite=True)"
   ]
  },
  {
   "cell_type": "markdown",
   "metadata": {},
   "source": [
    "#### Plotting results \n",
    "Note that we reload and recompile the trained model."
   ]
  },
  {
   "cell_type": "code",
   "execution_count": 68,
   "metadata": {},
   "outputs": [
    {
     "name": "stdout",
     "output_type": "stream",
     "text": [
      "Compilation Time :  0.02573227882385254\n",
      "_________________________________________________________________\n",
      "Layer (type)                 Output Shape              Param #   \n",
      "=================================================================\n",
      "input_14 (InputLayer)        (1, 10, 7)                0         \n",
      "_________________________________________________________________\n",
      "lstm_40 (LSTM)               (1, 10, 4)                192       \n",
      "_________________________________________________________________\n",
      "dropout_40 (Dropout)         (1, 10, 4)                0         \n",
      "_________________________________________________________________\n",
      "lstm_41 (LSTM)               (1, 10, 4)                144       \n",
      "_________________________________________________________________\n",
      "dropout_41 (Dropout)         (1, 10, 4)                0         \n",
      "_________________________________________________________________\n",
      "lstm_42 (LSTM)               (1, 4)                    144       \n",
      "_________________________________________________________________\n",
      "dropout_42 (Dropout)         (1, 4)                    0         \n",
      "_________________________________________________________________\n",
      "dense_14 (Dense)             (1, 1)                    5         \n",
      "=================================================================\n",
      "Total params: 485\n",
      "Trainable params: 485\n",
      "Non-trainable params: 0\n",
      "_________________________________________________________________\n",
      "None\n"
     ]
    },
    {
     "data": {
      "image/png": "[encoded data removed]",
      "text/plain": [
       "<Figure size 1152x576 with 1 Axes>"
      ]
     },
     "metadata": {
      "needs_background": "light"
     },
     "output_type": "display_data"
    }
   ],
   "source": [
    "### formatting data and loading model\n",
    "X, y = np.concatenate((X_train,X_test), axis=0), np.concatenate((y_train,y_test),axis=0)*max_values.iloc[0]\n",
    "\n",
    "timestamps = data.index[:len(X)]\n",
    "predictions = make_predictions_batch(X, model, hidden=4, features=7, predict_n = 1, look_back=10,\\\n",
    "                                          batch_size=1,n_pred = 100)*max_values.iloc[0]\n",
    "\n",
    "### Plotting\n",
    "plot=\"median\"\n",
    "confidence=95\n",
    "data_kw={\"label\": \"data\",\"color\":\"black\"}\n",
    "pred_kw = {\"color\":\"red\"}\n",
    "fill_kw={\"color\":\"blue\",\"alpha\":0.3,\"label\": \"{} confidence interval\".format(confidence)}\n",
    "title_kw={\"label\": \"Predictions for Nova Iguaçu\",\"fontsize\":20}\n",
    "xlabel_kw = {\"xlabel\": \"time\",\"fontsize\":14}\n",
    "ylabel_kw={\"ylabel\":\"Incidence\",\"fontsize\":14}\n",
    "axvline_kw={\"x\": timestamps[len(X_train)], \"linestyle\": \"dashdot\", \"ymin\":0.05,\"ymax\":1, \"color\": \"g\", \"label\":\"train/test split\"}\n",
    "grid_params={}\n",
    "\n",
    "fig, ax = plt.subplots(figsize=(16,8))\n",
    "plot_quantiles(ax,timestamps, predictions[:,:,0],y[:,0],plot,confidence,data_kw,pred_kw,fill_kw,\\\n",
    "               title_kw,xlabel_kw,ylabel_kw,axvline_kw)\n",
    "### saving figure\n",
    "fig.savefig(\"../figures/LSTM_{}_dropout.png\".format(geocodes[\"n_iguacu\"]))"
   ]
  },
  {
   "cell_type": "code",
   "execution_count": null,
   "metadata": {},
   "outputs": [],
   "source": [
    "y = np.array([1,2])\n",
    "x = np.array([[1,2],[]])"
   ]
  }
 ],
 "metadata": {
  "kernelspec": {
   "display_name": "Python 3",
   "language": "python",
   "name": "python3"
  },
  "language_info": {
   "codemirror_mode": {
    "name": "ipython",
    "version": 3
   },
   "file_extension": ".py",
   "mimetype": "text/x-python",
   "name": "python",
   "nbconvert_exporter": "python",
   "pygments_lexer": "ipython3",
   "version": "3.7.3"
  },
  "varInspector": {
   "cols": {
    "lenName": 16,
    "lenType": 16,
    "lenVar": 40
   },
   "kernels_config": {
    "python": {
     "delete_cmd_postfix": "",
     "delete_cmd_prefix": "del ",
     "library": "var_list.py",
     "varRefreshCmd": "print(var_dic_list())"
    },
    "r": {
     "delete_cmd_postfix": ") ",
     "delete_cmd_prefix": "rm(",
     "library": "var_list.r",
     "varRefreshCmd": "cat(var_dic_list()) "
    }
   },
   "types_to_exclude": [
    "module",
    "function",
    "builtin_function_or_method",
    "instance",
    "_Feature"
   ],
   "window_display": false
  }
 },
 "nbformat": 4,
 "nbformat_minor": 2
}
